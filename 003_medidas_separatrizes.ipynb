{
 "cells": [
  {
   "cell_type": "markdown",
   "id": "3a9e87a5",
   "metadata": {},
   "source": [
    "# 1. Medidas separatrizes"
   ]
  },
  {
   "cell_type": "code",
   "execution_count": 3,
   "id": "f2c7f2c1",
   "metadata": {},
   "outputs": [],
   "source": [
    "## bibliotecas de comandos"
   ]
  },
  {
   "cell_type": "code",
   "execution_count": 4,
   "id": "6079b359",
   "metadata": {},
   "outputs": [],
   "source": [
    "import statistics\n",
    "import numpy as np"
   ]
  },
  {
   "cell_type": "markdown",
   "id": "b534a688",
   "metadata": {},
   "source": [
    "### Quartil"
   ]
  },
  {
   "cell_type": "markdown",
   "id": "679540a3",
   "metadata": {},
   "source": [
    "Os quartis são valores que dividem uma amostra de dados em quatro partes iguais."
   ]
  },
  {
   "cell_type": "markdown",
   "id": "f5dbfcb8",
   "metadata": {},
   "source": [
    "<img src=\"https://arquivos.respondeai.com.br/seo/2022/a0f00ba8-115b-4727-9c2b-df8eb82eee3b.webp\" width=\"800\" height=\"400\">"
   ]
  },
  {
   "cell_type": "markdown",
   "id": "8dda7d93",
   "metadata": {},
   "source": [
    "- 1º quartil: \n",
    "  - é o valor da posição central entre o primeiro termo e a mediana.\n",
    "  - Ele serve para marcarmos que, até o seu valor, temos 25% da amostra ordenada;\n",
    "- 2º quartil: \n",
    "  - é a a mediana;\n",
    "  - Ele serve para marcarmos que, até o seu valor, temos 50% da amostra ordenada;\n",
    "- 3º quartil: \n",
    "  - é o meio do caminho entre a mediana e o último termo. \n",
    "  - Marca que, até o seu valor, temos 75% dos nossos dados."
   ]
  },
  {
   "cell_type": "code",
   "execution_count": 5,
   "id": "282590a0",
   "metadata": {},
   "outputs": [],
   "source": [
    "a = [84,49,61,40,83,67,45,66,70,69,\n",
    "     80,58,68,60,67,72,73,70,57,63,\n",
    "     70,78,52,67,53,67,75,61,70,81,\n",
    "     76,79,75,76,58,31]"
   ]
  },
  {
   "cell_type": "code",
   "execution_count": 6,
   "id": "8ccbc462",
   "metadata": {},
   "outputs": [
    {
     "name": "stdout",
     "output_type": "stream",
     "text": [
      "Amostra 2:  [84, 49, 61, 40, 83, 67, 45, 66, 70, 69]\n"
     ]
    }
   ],
   "source": [
    "a2 = a[0:10]\n",
    "print(\"Amostra 2: \", a2)"
   ]
  },
  {
   "cell_type": "code",
   "execution_count": 7,
   "id": "68731821",
   "metadata": {},
   "outputs": [
    {
     "name": "stdout",
     "output_type": "stream",
     "text": [
      "[48.0, 66.5, 73.25]\n",
      "\n",
      "mediana:  66.5\n",
      "primeiro quartil:  48.0\n",
      "segundo quartil:  66.5\n",
      "terceiro quartil:  73.25\n"
     ]
    }
   ],
   "source": [
    "q = statistics.quantiles(a2)\n",
    "print(q); print(\"\")\n",
    "print(\"mediana: \", statistics.median(q))\n",
    "print(\"primeiro quartil: \", q[0])\n",
    "print(\"segundo quartil: \", q[1])\n",
    "print(\"terceiro quartil: \", q[2])"
   ]
  },
  {
   "cell_type": "markdown",
   "id": "4ce0b7c0",
   "metadata": {},
   "source": [
    "### Percentil"
   ]
  },
  {
   "cell_type": "markdown",
   "id": "3f1acf13",
   "metadata": {},
   "source": [
    "Dividem o conjunto de dados em 100 partes iguais, ou seja, em pedaços de tamanhos iguais que contêm 1% dos dados."
   ]
  },
  {
   "cell_type": "code",
   "execution_count": 24,
   "id": "510455ce",
   "metadata": {},
   "outputs": [
    {
     "name": "stdout",
     "output_type": "stream",
     "text": [
      "[1, 2, 7, 20, 34]\n"
     ]
    }
   ],
   "source": [
    "a = [1, 2, 7, 20, 34]\n",
    "print(a)"
   ]
  },
  {
   "cell_type": "code",
   "execution_count": 29,
   "id": "1ff81415",
   "metadata": {},
   "outputs": [
    {
     "name": "stdout",
     "output_type": "stream",
     "text": [
      "1º percentil:  1.04\n",
      "2º percentil:  1.08\n",
      "25º percentil:  2.0\n",
      "50º percentil:  7.0\n",
      "100º percentil:  34.0\n"
     ]
    }
   ],
   "source": [
    "print(\"1º percentil: \", np.percentile(a, 1))\n",
    "print(\"2º percentil: \", np.percentile(a, 2))\n",
    "print(\"25º percentil: \", np.percentile(a, 25))\n",
    "print(\"50º percentil: \", np.percentile(a, 50))\n",
    "print(\"100º percentil: \", np.percentile(a, 100))"
   ]
  },
  {
   "cell_type": "code",
   "execution_count": null,
   "id": "d4064757",
   "metadata": {},
   "outputs": [],
   "source": []
  }
 ],
 "metadata": {
  "kernelspec": {
   "display_name": "Python 3 (ipykernel)",
   "language": "python",
   "name": "python3"
  },
  "language_info": {
   "codemirror_mode": {
    "name": "ipython",
    "version": 3
   },
   "file_extension": ".py",
   "mimetype": "text/x-python",
   "name": "python",
   "nbconvert_exporter": "python",
   "pygments_lexer": "ipython3",
   "version": "3.9.12"
  }
 },
 "nbformat": 4,
 "nbformat_minor": 5
}
