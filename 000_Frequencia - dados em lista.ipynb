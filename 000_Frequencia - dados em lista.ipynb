{
 "cells": [
  {
   "cell_type": "markdown",
   "id": "31ecf3c8",
   "metadata": {},
   "source": [
    "## Importar biblioteca"
   ]
  },
  {
   "cell_type": "code",
   "execution_count": 1,
   "id": "c2451190",
   "metadata": {},
   "outputs": [],
   "source": [
    "import pandas as pd"
   ]
  },
  {
   "cell_type": "markdown",
   "id": "531cb5c8",
   "metadata": {},
   "source": [
    "## Definir série de dados"
   ]
  },
  {
   "cell_type": "code",
   "execution_count": 2,
   "id": "9f9cde31",
   "metadata": {},
   "outputs": [],
   "source": [
    "data = pd.Series([10, 10, 1, 2.5, 3, 3, 3, 3, 8, 8, 5])"
   ]
  },
  {
   "cell_type": "markdown",
   "id": "4defae23",
   "metadata": {},
   "source": [
    "## Calcular frequência"
   ]
  },
  {
   "cell_type": "code",
   "execution_count": 3,
   "id": "b5922425",
   "metadata": {},
   "outputs": [
    {
     "data": {
      "text/plain": [
       "10.0    2\n",
       "1.0     1\n",
       "2.5     1\n",
       "3.0     4\n",
       "8.0     2\n",
       "5.0     1\n",
       "dtype: int64"
      ]
     },
     "execution_count": 3,
     "metadata": {},
     "output_type": "execute_result"
    }
   ],
   "source": [
    "data.value_counts(sort=False)"
   ]
  },
  {
   "cell_type": "markdown",
   "id": "f5a27abe",
   "metadata": {},
   "source": [
    "## Criar histograma"
   ]
  },
  {
   "cell_type": "code",
   "execution_count": 4,
   "id": "7c1234b1",
   "metadata": {},
   "outputs": [
    {
     "data": {
      "text/plain": [
       "<AxesSubplot:>"
      ]
     },
     "execution_count": 4,
     "metadata": {},
     "output_type": "execute_result"
    },
    {
     "data": {
      "image/png": "[encoded data removed]",
      "text/plain": [
       "<Figure size 432x288 with 1 Axes>"
      ]
     },
     "metadata": {
      "needs_background": "light"
     },
     "output_type": "display_data"
    }
   ],
   "source": [
    "data.hist()"
   ]
  },
  {
   "cell_type": "code",
   "execution_count": null,
   "id": "f05e662b",
   "metadata": {},
   "outputs": [],
   "source": []
  }
 ],
 "metadata": {
  "kernelspec": {
   "display_name": "Python 3 (ipykernel)",
   "language": "python",
   "name": "python3"
  },
  "language_info": {
   "codemirror_mode": {
    "name": "ipython",
    "version": 3
   },
   "file_extension": ".py",
   "mimetype": "text/x-python",
   "name": "python",
   "nbconvert_exporter": "python",
   "pygments_lexer": "ipython3",
   "version": "3.9.12"
  }
 },
 "nbformat": 4,
 "nbformat_minor": 5
}
