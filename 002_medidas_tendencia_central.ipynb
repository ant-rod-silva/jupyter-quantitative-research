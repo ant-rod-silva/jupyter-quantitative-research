{
 "cells": [
  {
   "cell_type": "markdown",
   "id": "3a9e87a5",
   "metadata": {},
   "source": [
    "# 1. Amostra e medidas de tendência central"
   ]
  },
  {
   "cell_type": "code",
   "execution_count": 15,
   "id": "f2c7f2c1",
   "metadata": {},
   "outputs": [],
   "source": [
    "## bibliotecas de comandos"
   ]
  },
  {
   "cell_type": "code",
   "execution_count": 16,
   "id": "6079b359",
   "metadata": {},
   "outputs": [],
   "source": [
    "import statistics\n",
    "import numpy as np"
   ]
  },
  {
   "cell_type": "markdown",
   "id": "30738445",
   "metadata": {},
   "source": [
    "## 1.1 Amostra"
   ]
  },
  {
   "cell_type": "markdown",
   "id": "0c60a3f5",
   "metadata": {},
   "source": [
    "Os dados a seguir são as temperaturas do anel de vedação do motor do foguete do ônibus espacial Challenger nos testes de acionamento ou lançamento real (Presidential Commission on the Space Shuttle Challenger Accident, Vol. 1, 1986: 129-131)."
   ]
  },
  {
   "cell_type": "code",
   "execution_count": 17,
   "id": "282590a0",
   "metadata": {},
   "outputs": [],
   "source": [
    "a = [84,49,61,40,83,67,45,66,70,69,\n",
    "     80,58,68,60,67,72,73,70,57,63,\n",
    "     70,78,52,67,53,67,75,61,70,81,\n",
    "     76,79,75,76,58,31]"
   ]
  },
  {
   "cell_type": "markdown",
   "id": "c6c9da65",
   "metadata": {},
   "source": [
    "## 1.2 Média aritmética"
   ]
  },
  {
   "cell_type": "markdown",
   "id": "2bc65218",
   "metadata": {},
   "source": [
    "Somatório de todos os elementos da série divididos pelo número de elementos."
   ]
  },
  {
   "cell_type": "markdown",
   "id": "9ff021e0",
   "metadata": {},
   "source": [
    "**Cálculo:** <img src=\"https://static.mundoeducacao.uol.com.br/mundoeducacao/2020/05/formula-media-aritimetica-simples.jpg\">"
   ]
  },
  {
   "cell_type": "code",
   "execution_count": 33,
   "id": "45a6bcaf",
   "metadata": {},
   "outputs": [
    {
     "name": "stdout",
     "output_type": "stream",
     "text": [
      "[31, 40, 45, 49, 52, 53, 57, 58, 58, 60, 61, 61, 63, 66, 67, 67, 67, 67, 68, 69, 70, 70, 70, 70, 72, 73, 75, 75, 76, 76, 78, 79, 80, 81, 83, 84]\n"
     ]
    }
   ],
   "source": [
    "print(a)"
   ]
  },
  {
   "cell_type": "code",
   "execution_count": 34,
   "id": "ba1b84f7",
   "metadata": {},
   "outputs": [
    {
     "name": "stdout",
     "output_type": "stream",
     "text": [
      "média aritmética:  65.86111111111111\n"
     ]
    }
   ],
   "source": [
    "media_aritmetica = statistics.mean(a)\n",
    "print(\"média aritmética: \", media_aritmetica)"
   ]
  },
  {
   "cell_type": "markdown",
   "id": "69208613",
   "metadata": {},
   "source": [
    "## 1.3 Moda"
   ]
  },
  {
   "cell_type": "markdown",
   "id": "c03ec0eb",
   "metadata": {},
   "source": [
    "A moda é o valor que ocorre mais vezes ou com maior frequência."
   ]
  },
  {
   "cell_type": "code",
   "execution_count": 35,
   "id": "f3875ff3",
   "metadata": {},
   "outputs": [
    {
     "name": "stdout",
     "output_type": "stream",
     "text": [
      "[31, 40, 45, 49, 52, 53, 57, 58, 58, 60, 61, 61, 63, 66, 67, 67, 67, 67, 68, 69, 70, 70, 70, 70, 72, 73, 75, 75, 76, 76, 78, 79, 80, 81, 83, 84]\n"
     ]
    }
   ],
   "source": [
    "print(a)"
   ]
  },
  {
   "cell_type": "code",
   "execution_count": 36,
   "id": "999581a1",
   "metadata": {},
   "outputs": [
    {
     "name": "stdout",
     "output_type": "stream",
     "text": [
      "Moda:  67\n"
     ]
    }
   ],
   "source": [
    "moda = statistics.mode(a)\n",
    "print(\"Moda: \", moda)"
   ]
  },
  {
   "cell_type": "markdown",
   "id": "49ed2efe",
   "metadata": {},
   "source": [
    "## 1.4 Mediana"
   ]
  },
  {
   "cell_type": "markdown",
   "id": "ace109b6",
   "metadata": {},
   "source": [
    "A mediana é determinada ordenando-se os dados de forma crescente ou decrescente e determinando o valor central da série."
   ]
  },
  {
   "cell_type": "markdown",
   "id": "b25f4bff",
   "metadata": {},
   "source": [
    "**Cálculo:**\n",
    "\n",
    "  - Devemos ordenar o conjunto de dados em ordem crescente;\n",
    "  - Se o número de elementos for par, então a mediana é a média dos dois valores centrais. \n",
    "    Soma os dois valores centrais e divide o resultado por 2\n",
    "  - Se o número de elementos for ímpar, então a mediana é o valor central."
   ]
  },
  {
   "cell_type": "code",
   "execution_count": 37,
   "id": "884bf25e",
   "metadata": {},
   "outputs": [
    {
     "name": "stdout",
     "output_type": "stream",
     "text": [
      "[31, 40, 45, 49, 52, 53, 57, 58, 58, 60, 61, 61, 63, 66, 67, 67, 67, 67, 68, 69, 70, 70, 70, 70, 72, 73, 75, 75, 76, 76, 78, 79, 80, 81, 83, 84]\n"
     ]
    }
   ],
   "source": [
    "a.sort()\n",
    "print(a)"
   ]
  },
  {
   "cell_type": "code",
   "execution_count": 38,
   "id": "2ac41aeb",
   "metadata": {},
   "outputs": [
    {
     "name": "stdout",
     "output_type": "stream",
     "text": [
      "Mediana: 67.5\n"
     ]
    }
   ],
   "source": [
    "mediana = statistics.median(a)\n",
    "print(\"Mediana:\", mediana)"
   ]
  },
  {
   "cell_type": "markdown",
   "id": "73cb6b8b",
   "metadata": {},
   "source": [
    "## 1.5 Média geométrica"
   ]
  },
  {
   "cell_type": "markdown",
   "id": "b5dafde3",
   "metadata": {},
   "source": [
    "A média geométrica é obtida extraindo-se a raiz n-ésima da multiplicação dos n termos da série numérica."
   ]
  },
  {
   "cell_type": "markdown",
   "id": "89397461",
   "metadata": {},
   "source": [
    "Fórmula: <img src=\"https://static.mundoeducacao.uol.com.br/mundoeducacao/2020/05/formula-media-geometrica.png\">"
   ]
  },
  {
   "cell_type": "code",
   "execution_count": 39,
   "id": "a6126dbe",
   "metadata": {},
   "outputs": [
    {
     "name": "stdout",
     "output_type": "stream",
     "text": [
      "Média geométrica: 64.56808352991855\n"
     ]
    }
   ],
   "source": [
    "media_geometrica = statistics.geometric_mean(a)\n",
    "print(\"Média geométrica:\", media_geometrica)"
   ]
  },
  {
   "cell_type": "markdown",
   "id": "6b822e40",
   "metadata": {},
   "source": [
    "## 1.6 Média harmônica"
   ]
  },
  {
   "cell_type": "markdown",
   "id": "0fb39764",
   "metadata": {},
   "source": [
    "A média harmônica é calculada pela divisão de n (quantidade de elementos) pela soma dos inversos dos elementos."
   ]
  },
  {
   "cell_type": "markdown",
   "id": "3df6f47d",
   "metadata": {},
   "source": [
    "<img src=\"https://static.mundoeducacao.uol.com.br/mundoeducacao/2020/05/11.jpg\">"
   ]
  },
  {
   "cell_type": "code",
   "execution_count": 40,
   "id": "52f28ec5",
   "metadata": {},
   "outputs": [
    {
     "name": "stdout",
     "output_type": "stream",
     "text": [
      "Média harmônica: 63.00511505384009\n"
     ]
    }
   ],
   "source": [
    "media_harmonica = statistics.harmonic_mean(a)\n",
    "print(\"Média harmônica:\", media_harmonica)"
   ]
  },
  {
   "cell_type": "markdown",
   "id": "b323edb4",
   "metadata": {},
   "source": [
    "## 1.7 Média ponderada"
   ]
  },
  {
   "cell_type": "code",
   "execution_count": 41,
   "id": "fe3a51a6",
   "metadata": {},
   "outputs": [
    {
     "name": "stdout",
     "output_type": "stream",
     "text": [
      "Média ponderada: 5.8\n"
     ]
    }
   ],
   "source": [
    "notas = np.array([9,8,7,3])\n",
    "pesos = np.array([1,2,3,4])\n",
    "\n",
    "media_ponderada = np.average(notas, weights=pesos)\n",
    "print(\"Média ponderada:\", media_ponderada)"
   ]
  },
  {
   "cell_type": "code",
   "execution_count": null,
   "id": "d1fa20e4",
   "metadata": {},
   "outputs": [],
   "source": []
  },
  {
   "cell_type": "code",
   "execution_count": null,
   "id": "95b87595",
   "metadata": {},
   "outputs": [],
   "source": []
  },
  {
   "cell_type": "code",
   "execution_count": null,
   "id": "290893c9",
   "metadata": {},
   "outputs": [],
   "source": []
  }
 ],
 "metadata": {
  "kernelspec": {
   "display_name": "Python 3 (ipykernel)",
   "language": "python",
   "name": "python3"
  },
  "language_info": {
   "codemirror_mode": {
    "name": "ipython",
    "version": 3
   },
   "file_extension": ".py",
   "mimetype": "text/x-python",
   "name": "python",
   "nbconvert_exporter": "python",
   "pygments_lexer": "ipython3",
   "version": "3.9.12"
  }
 },
 "nbformat": 4,
 "nbformat_minor": 5
}
